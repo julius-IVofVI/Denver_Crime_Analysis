{
 "cells": [
  {
   "cell_type": "code",
   "execution_count": 109,
   "metadata": {},
   "outputs": [],
   "source": [
    "#import the necessary libraries\n",
    "import numpy as np\n",
    "import pandas as pd\n",
    "import matplotlib.pyplot as plt\n",
    "import seaborn as sns\n",
    "\n",
    "\n",
    "#import the dataset\n",
    "df=pd.read_csv('crime.csv',encoding='latin-1')"
   ]
  },
  {
   "cell_type": "code",
   "execution_count": 110,
   "metadata": {},
   "outputs": [
    {
     "name": "stdout",
     "output_type": "stream",
     "text": [
      "incident_id                 int64\n",
      "offense_id                  int64\n",
      "offense_code                int64\n",
      "offense_code_extension      int64\n",
      "offense_type_id            object\n",
      "offense_category_id        object\n",
      "first_occurrence_date      object\n",
      "last_occurrence_date       object\n",
      "reported_date              object\n",
      "incident_address           object\n",
      "geo_x                     float64\n",
      "geo_y                     float64\n",
      "geo_lon                   float64\n",
      "geo_lat                   float64\n",
      "district_id                object\n",
      "precinct_id                 int64\n",
      "neighborhood_id            object\n",
      "is_crime                    int64\n",
      "is_traffic                  int64\n",
      "victim_count                int64\n",
      "dtype: object\n"
     ]
    }
   ],
   "source": [
    "#To get the datatypes of each column\n",
    "print(df.dtypes)"
   ]
  },
  {
   "cell_type": "code",
   "execution_count": 111,
   "metadata": {},
   "outputs": [
    {
     "name": "stdout",
     "output_type": "stream",
     "text": [
      "(386865, 20)\n"
     ]
    }
   ],
   "source": [
    "#To get the descriptive statistics of the dataset, so the data can be properly understood\n",
    "print(df.shape)"
   ]
  },
  {
   "cell_type": "code",
   "execution_count": 112,
   "metadata": {},
   "outputs": [
    {
     "name": "stdout",
     "output_type": "stream",
     "text": [
      "        incident_id    offense_id   offense_code  offense_code_extension  \\\n",
      "count  3.868650e+05  3.868650e+05  386865.000000           386865.000000   \n",
      "mean   6.179303e+09  6.179303e+15    2766.705473                0.263642   \n",
      "std    1.335478e+10  1.335478e+16    1231.562483                0.669589   \n",
      "min    2.019600e+04  2.019652e+10     902.000000                0.000000   \n",
      "25%    2.019359e+09  2.019359e+15    2304.000000                0.000000   \n",
      "50%    2.021482e+09  2.021482e+15    2399.000000                0.000000   \n",
      "75%    2.023468e+09  2.023468e+15    2999.000000                0.000000   \n",
      "max    2.020890e+12  2.020890e+18    7399.000000                6.000000   \n",
      "\n",
      "              geo_x         geo_y       geo_lon        geo_lat    precinct_id  \\\n",
      "count  3.713620e+05  3.713620e+05  3.710960e+05  371096.000000  386865.000000   \n",
      "mean   3.157516e+06  1.693963e+06 -1.049429e+02      39.730607     386.199894   \n",
      "std    3.851640e+05  9.558331e+04  1.078909e+00       0.409652     183.818122   \n",
      "min    1.000000e+00  1.110000e+02 -1.154641e+02       0.000000     111.000000   \n",
      "25%    3.140207e+06  1.683469e+06 -1.050014e+02      39.708748     222.000000   \n",
      "50%    3.146509e+06  1.694853e+06 -1.049790e+02      39.739995     324.000000   \n",
      "75%    3.165779e+06  1.702457e+06 -1.049110e+02      39.760928     523.000000   \n",
      "max    4.067477e+07  1.089045e+07  5.000000e-07      39.900961     999.000000   \n",
      "\n",
      "       is_crime  is_traffic   victim_count  \n",
      "count  386865.0    386865.0  386865.000000  \n",
      "mean        1.0         0.0       1.020304  \n",
      "std         0.0         0.0       0.234620  \n",
      "min         1.0         0.0       1.000000  \n",
      "25%         1.0         0.0       1.000000  \n",
      "50%         1.0         0.0       1.000000  \n",
      "75%         1.0         0.0       1.000000  \n",
      "max         1.0         0.0      19.000000  \n"
     ]
    }
   ],
   "source": [
    "print(df.describe())"
   ]
  },
  {
   "cell_type": "code",
   "execution_count": 113,
   "metadata": {},
   "outputs": [],
   "source": [
    "#To convert columns to the appropriate datatypes\n",
    "df['first_occurrence_date']=pd.to_datetime(df['first_occurrence_date'])\n",
    "df['last_occurrence_date']=pd.to_datetime(df['last_occurrence_date'])\n",
    "df['reported_date']=pd.to_datetime(df['reported_date'])\n"
   ]
  },
  {
   "cell_type": "code",
   "execution_count": 114,
   "metadata": {},
   "outputs": [
    {
     "name": "stdout",
     "output_type": "stream",
     "text": [
      "incident_id                        int64\n",
      "offense_id                         int64\n",
      "offense_code                       int64\n",
      "offense_code_extension             int64\n",
      "offense_type_id                   object\n",
      "offense_category_id               object\n",
      "first_occurrence_date     datetime64[ns]\n",
      "last_occurrence_date      datetime64[ns]\n",
      "reported_date             datetime64[ns]\n",
      "incident_address                  object\n",
      "geo_x                            float64\n",
      "geo_y                            float64\n",
      "geo_lon                          float64\n",
      "geo_lat                          float64\n",
      "district_id                       object\n",
      "precinct_id                        int64\n",
      "neighborhood_id                   object\n",
      "is_crime                           int64\n",
      "is_traffic                         int64\n",
      "victim_count                       int64\n",
      "dtype: object\n"
     ]
    }
   ],
   "source": [
    "print(df.dtypes)"
   ]
  },
  {
   "cell_type": "code",
   "execution_count": 115,
   "metadata": {},
   "outputs": [
    {
     "name": "stdout",
     "output_type": "stream",
     "text": [
      "   incident_id        offense_id  offense_code  offense_code_extension  \\\n",
      "0    202268791   202268791299900          2999                       0   \n",
      "1   2021387586  2021387586299900          2999                       0   \n",
      "2   2020641486  2020641486299900          2999                       0   \n",
      "3   2018612468  2018612468299900          2999                       0   \n",
      "4   2020293614  2020293614299900          2999                       0   \n",
      "\n",
      "           offense_type_id offense_category_id first_occurrence_date  \\\n",
      "0  criminal-mischief-other     public-disorder   2022-02-10 02:50:00   \n",
      "1  criminal-mischief-other     public-disorder   2021-07-07 21:02:00   \n",
      "2  criminal-mischief-other     public-disorder   2020-10-29 01:30:00   \n",
      "3  criminal-mischief-other     public-disorder   2018-09-06 17:00:00   \n",
      "4  criminal-mischief-other     public-disorder   2020-05-08 05:00:00   \n",
      "\n",
      "  last_occurrence_date       reported_date     incident_address      geo_x  \\\n",
      "0                  NaT 2022-02-10 03:16:00   1107 N SANTA FE DR  3140929.0   \n",
      "1                  NaT 2021-07-08 00:55:00          815 16TH ST  3142470.0   \n",
      "2                  NaT 2020-10-29 04:31:00  4745 N FEDERAL BLVD  3133352.0   \n",
      "3  2018-09-06 23:00:00 2018-09-07 09:58:00    65 S FEDERAL BLVD  3133534.0   \n",
      "4  2020-05-08 18:30:00 2020-05-13 10:00:00   12295 E ALBROOK DR  3184065.0   \n",
      "\n",
      "       geo_y     geo_lon    geo_lat district_id  precinct_id neighborhood_id  \\\n",
      "0  1692612.0 -104.998910  39.733957           1          123    lincoln-park   \n",
      "1  1697098.0 -104.993342  39.746248           6          611             cbd   \n",
      "2  1710396.0 -105.025520  39.782888           1          111        berkeley   \n",
      "3  1685797.0 -105.025330  39.715357           4          411          barnum   \n",
      "4  1710782.0 -104.845074  39.783082           5          521       montbello   \n",
      "\n",
      "   is_crime  is_traffic  victim_count  \n",
      "0         1           0             1  \n",
      "1         1           0             1  \n",
      "2         1           0             1  \n",
      "3         1           0             1  \n",
      "4         1           0             1  \n"
     ]
    }
   ],
   "source": [
    "#To get the first 5 instances of the dataset\n",
    "print(df.head())"
   ]
  },
  {
   "cell_type": "code",
   "execution_count": 116,
   "metadata": {},
   "outputs": [
    {
     "name": "stdout",
     "output_type": "stream",
     "text": [
      "0\n"
     ]
    }
   ],
   "source": [
    "#The dataset is to be cleaned. Start by checking and exterminating duplicates\n",
    "print(df.duplicated().sum())"
   ]
  },
  {
   "cell_type": "code",
   "execution_count": 117,
   "metadata": {},
   "outputs": [
    {
     "name": "stdout",
     "output_type": "stream",
     "text": [
      "incident_id                    0\n",
      "offense_id                     0\n",
      "offense_code                   0\n",
      "offense_code_extension         0\n",
      "offense_type_id                0\n",
      "offense_category_id            0\n",
      "first_occurrence_date          0\n",
      "last_occurrence_date      175556\n",
      "reported_date                  0\n",
      "incident_address           15503\n",
      "geo_x                      15503\n",
      "geo_y                      15503\n",
      "geo_lon                    15769\n",
      "geo_lat                    15769\n",
      "district_id                   57\n",
      "precinct_id                    0\n",
      "neighborhood_id              689\n",
      "is_crime                       0\n",
      "is_traffic                     0\n",
      "victim_count                   0\n",
      "dtype: int64\n"
     ]
    }
   ],
   "source": [
    "#This dataset has no duplicates. The next step is to check the null values\n",
    "print(df.isnull().sum())"
   ]
  },
  {
   "cell_type": "code",
   "execution_count": 119,
   "metadata": {},
   "outputs": [
    {
     "name": "stdout",
     "output_type": "stream",
     "text": [
      "(386131, 20)\n"
     ]
    }
   ],
   "source": [
    "#Get rid of the rows with the null values in the neighborhood_id column and the district_id column\n",
    "df=df.dropna(subset=['neighborhood_id','district_id'])\n",
    "print(df.shape)"
   ]
  },
  {
   "cell_type": "code",
   "execution_count": 120,
   "metadata": {},
   "outputs": [],
   "source": [
    "#In this dataset, rows with no last_occurrence date are assumed to have happened only once\n",
    "#So, fill in the null last_occurrence_date values with the corresponding first_occurrence_date values\n",
    "df['last_occurrence_date'].fillna(df['first_occurrence_date'], inplace=True)"
   ]
  },
  {
   "cell_type": "code",
   "execution_count": 121,
   "metadata": {},
   "outputs": [],
   "source": [
    "#Fill null values in the Incident Address column with NA\n",
    "df['incident_address'].fillna(value='NA', inplace=True)"
   ]
  },
  {
   "cell_type": "code",
   "execution_count": 122,
   "metadata": {},
   "outputs": [
    {
     "name": "stdout",
     "output_type": "stream",
     "text": [
      "incident_id                   0\n",
      "offense_id                    0\n",
      "offense_code                  0\n",
      "offense_code_extension        0\n",
      "offense_type_id               0\n",
      "offense_category_id           0\n",
      "first_occurrence_date         0\n",
      "last_occurrence_date          0\n",
      "reported_date                 0\n",
      "incident_address              0\n",
      "geo_x                     15465\n",
      "geo_y                     15465\n",
      "geo_lon                   15465\n",
      "geo_lat                   15465\n",
      "district_id                   0\n",
      "precinct_id                   0\n",
      "neighborhood_id               0\n",
      "is_crime                      0\n",
      "is_traffic                    0\n",
      "victim_count                  0\n",
      "dtype: int64\n"
     ]
    }
   ],
   "source": [
    "print(df.isnull().sum())"
   ]
  },
  {
   "cell_type": "code",
   "execution_count": 123,
   "metadata": {},
   "outputs": [
    {
     "name": "stdout",
     "output_type": "stream",
     "text": [
      "Index(['incident_id', 'offense_id', 'offense_code', 'offense_code_extension',\n",
      "       'offense_type_id', 'offense_category_id', 'first_occurrence_date',\n",
      "       'last_occurrence_date', 'reported_date', 'incident_address', 'geo_x',\n",
      "       'geo_y', 'geo_lon', 'geo_lat', 'district_id', 'precinct_id',\n",
      "       'neighborhood_id', 'is_crime', 'is_traffic', 'victim_count'],\n",
      "      dtype='object')\n"
     ]
    }
   ],
   "source": [
    "print(df.columns)"
   ]
  },
  {
   "cell_type": "code",
   "execution_count": 124,
   "metadata": {},
   "outputs": [
    {
     "name": "stdout",
     "output_type": "stream",
     "text": [
      "369199    1843.848611\n",
      "342357    1826.000000\n",
      "385107    1727.833333\n",
      "386695    1717.584028\n",
      "379935    1674.103472\n",
      "             ...     \n",
      "86429        0.000000\n",
      "86437        0.000000\n",
      "261945       0.000000\n",
      "18596       -0.034028\n",
      "199238      -0.325694\n",
      "Name: report_time_difference, Length: 386131, dtype: float64\n"
     ]
    }
   ],
   "source": [
    "#Let us get the difference between first occurrence time and reported time and \n",
    "#This will help comb out errors in the first occurrence time column\n",
    "diff_in_report_time=df['reported_date']-df['first_occurrence_date']\n",
    "df['report_time_difference']=diff_in_report_time.dt.total_seconds()/(60*60*24) #To convert it into seconds and then calculate it into days format\n",
    "print(df['report_time_difference'].sort_values(ascending=False))"
   ]
  },
  {
   "cell_type": "code",
   "execution_count": 125,
   "metadata": {},
   "outputs": [
    {
     "name": "stdout",
     "output_type": "stream",
     "text": [
      "        incident_id         offense_id  offense_code  offense_code_extension  \\\n",
      "18596    2020148442   2020148442299901          2999                       1   \n",
      "199238  20206011172  20206011172230500          2305                       0   \n",
      "\n",
      "                  offense_type_id       offense_category_id  \\\n",
      "18596   criminal-mischief-mtr-veh           public-disorder   \n",
      "199238   theft-items-from-vehicle  theft-from-motor-vehicle   \n",
      "\n",
      "       first_occurrence_date last_occurrence_date       reported_date  \\\n",
      "18596    2020-03-08 03:50:00  2020-03-08 03:50:00 2020-03-08 03:01:00   \n",
      "199238   2020-08-24 19:05:00  2020-08-24 21:05:00 2020-08-24 11:16:00   \n",
      "\n",
      "           incident_address  ...      geo_y     geo_lon    geo_lat  \\\n",
      "18596   2300 BLK E 12TH AVE  ...  1693164.0 -104.959446  39.735297   \n",
      "199238       3315 WALNUT ST  ...  1704385.0 -104.977720  39.766184   \n",
      "\n",
      "        district_id precinct_id  neighborhood_id is_crime  is_traffic  \\\n",
      "18596             2         213    congress-park        1           0   \n",
      "199238            2         211      five-points        1           0   \n",
      "\n",
      "        victim_count  report_time_difference  \n",
      "18596              1               -0.034028  \n",
      "199238             1               -0.325694  \n",
      "\n",
      "[2 rows x 21 columns]\n"
     ]
    }
   ],
   "source": [
    "#There are 2 instances where the crime was supposedly reported before it occurred\n",
    "print(df.loc[[18596,199238]])"
   ]
  },
  {
   "cell_type": "code",
   "execution_count": 126,
   "metadata": {},
   "outputs": [],
   "source": [
    "#Row 18596 was reported 49 minutes before it happened, and row 199238 was reported over 7 hours before it happened\n",
    "#A solution would be to switch the values in both columns, as it can be assumed as an error in data collection\n"
   ]
  },
  {
   "cell_type": "code",
   "execution_count": 128,
   "metadata": {},
   "outputs": [],
   "source": [
    "#To create a function to switch the values in first occurrence date column and reported date column\n",
    "def switch(df, index):\n",
    "    column1 = 'first_occurrence_date'\n",
    "    column2 = 'reported_date'\n",
    "    temp = df.at[index, column1]\n",
    "    df.at[index, column1] = df.at[index, column2]\n",
    "    df.at[index, column2] = temp\n",
    "    return df\n"
   ]
  },
  {
   "cell_type": "code",
   "execution_count": 129,
   "metadata": {},
   "outputs": [],
   "source": [
    "#Apply the function to the dataset rows\n",
    "index=18596\n",
    "df=switch(df,index)"
   ]
  },
  {
   "cell_type": "code",
   "execution_count": 131,
   "metadata": {},
   "outputs": [
    {
     "name": "stdout",
     "output_type": "stream",
     "text": [
      "        incident_id         offense_id  offense_code  offense_code_extension  \\\n",
      "18596    2020148442   2020148442299901          2999                       1   \n",
      "199238  20206011172  20206011172230500          2305                       0   \n",
      "\n",
      "                  offense_type_id       offense_category_id  \\\n",
      "18596   criminal-mischief-mtr-veh           public-disorder   \n",
      "199238   theft-items-from-vehicle  theft-from-motor-vehicle   \n",
      "\n",
      "       first_occurrence_date last_occurrence_date       reported_date  \\\n",
      "18596    2020-03-08 03:01:00  2020-03-08 03:50:00 2020-03-08 03:50:00   \n",
      "199238   2020-08-24 19:05:00  2020-08-24 21:05:00 2020-08-24 11:16:00   \n",
      "\n",
      "           incident_address  ...      geo_y     geo_lon    geo_lat  \\\n",
      "18596   2300 BLK E 12TH AVE  ...  1693164.0 -104.959446  39.735297   \n",
      "199238       3315 WALNUT ST  ...  1704385.0 -104.977720  39.766184   \n",
      "\n",
      "        district_id precinct_id  neighborhood_id is_crime  is_traffic  \\\n",
      "18596             2         213    congress-park        1           0   \n",
      "199238            2         211      five-points        1           0   \n",
      "\n",
      "        victim_count  report_time_difference  \n",
      "18596              1               -0.034028  \n",
      "199238             1               -0.325694  \n",
      "\n",
      "[2 rows x 21 columns]\n"
     ]
    }
   ],
   "source": [
    "print(df.loc[[18596,199238]])"
   ]
  },
  {
   "cell_type": "code",
   "execution_count": 132,
   "metadata": {},
   "outputs": [
    {
     "name": "stdout",
     "output_type": "stream",
     "text": [
      "incident_id               361580\n",
      "offense_id                386131\n",
      "offense_code                 141\n",
      "offense_code_extension         7\n",
      "offense_type_id              186\n",
      "offense_category_id           14\n",
      "first_occurrence_date     240675\n",
      "last_occurrence_date      263269\n",
      "reported_date             335334\n",
      "incident_address           90358\n",
      "geo_x                      45210\n",
      "geo_y                      43467\n",
      "geo_lon                    90773\n",
      "geo_lat                    90459\n",
      "district_id                    8\n",
      "precinct_id                   40\n",
      "neighborhood_id               78\n",
      "is_crime                       1\n",
      "is_traffic                     1\n",
      "victim_count                  18\n",
      "report_time_difference     32930\n",
      "dtype: int64\n"
     ]
    }
   ],
   "source": [
    "#To check the amount of unique values in each column in the dataset\n",
    "print(df.nunique())"
   ]
  },
  {
   "cell_type": "code",
   "execution_count": 133,
   "metadata": {},
   "outputs": [
    {
     "name": "stdout",
     "output_type": "stream",
     "text": [
      "1    386131\n",
      "Name: is_crime, dtype: int64\n"
     ]
    }
   ],
   "source": [
    "#The is_crime and is_traffic column have only one unique value. Use the valuecounts() to get a deeper understanding of the unique values\n",
    "print(df['is_crime'].value_counts())\n"
   ]
  },
  {
   "cell_type": "code",
   "execution_count": 134,
   "metadata": {},
   "outputs": [
    {
     "name": "stdout",
     "output_type": "stream",
     "text": [
      "0    386131\n",
      "Name: is_traffic, dtype: int64\n"
     ]
    }
   ],
   "source": [
    "print(df['is_traffic'].value_counts())"
   ]
  },
  {
   "cell_type": "code",
   "execution_count": 135,
   "metadata": {},
   "outputs": [],
   "source": [
    "#Every data entry has the same value in the is_traffic and is_crime column (1, which is yes)\n",
    "#So these columns can be dropped\n",
    "df.drop('is_crime',axis=1,inplace=True)"
   ]
  },
  {
   "cell_type": "code",
   "execution_count": 27,
   "metadata": {},
   "outputs": [],
   "source": [
    "df.drop('is_traffic',axis=1,inplace=True)"
   ]
  },
  {
   "cell_type": "code",
   "execution_count": 136,
   "metadata": {},
   "outputs": [
    {
     "name": "stdout",
     "output_type": "stream",
     "text": [
      "Index(['incident_id', 'offense_id', 'offense_code', 'offense_code_extension',\n",
      "       'offense_type_id', 'offense_category_id', 'first_occurrence_date',\n",
      "       'last_occurrence_date', 'reported_date', 'incident_address', 'geo_x',\n",
      "       'geo_y', 'geo_lon', 'geo_lat', 'district_id', 'precinct_id',\n",
      "       'neighborhood_id', 'is_traffic', 'victim_count',\n",
      "       'report_time_difference'],\n",
      "      dtype='object')\n"
     ]
    }
   ],
   "source": [
    "print(df.columns)"
   ]
  },
  {
   "cell_type": "code",
   "execution_count": 137,
   "metadata": {},
   "outputs": [
    {
     "name": "stdout",
     "output_type": "stream",
     "text": [
      "five-points     23073\n",
      "central-park    17862\n",
      "capitol-hill    14655\n",
      "cbd             14651\n",
      "dia             14641\n",
      "                ...  \n",
      "skyland          1155\n",
      "rosedale         1099\n",
      "country-club      887\n",
      "indian-creek      718\n",
      "wellshire         381\n",
      "Name: neighborhood_id, Length: 78, dtype: int64\n"
     ]
    }
   ],
   "source": [
    "#The Exploratory Data Analysis (EDA) stage\n",
    "#To find the frequencies of crime in the neighbourhoods\n",
    "print(df['neighborhood_id'].value_counts())\n"
   ]
  },
  {
   "cell_type": "code",
   "execution_count": 138,
   "metadata": {},
   "outputs": [
    {
     "data": {
      "image/png": "[encoded data removed]",
      "text/plain": [
       "<Figure size 640x480 with 1 Axes>"
      ]
     },
     "metadata": {},
     "output_type": "display_data"
    }
   ],
   "source": [
    "df['neighborhood_id'].value_counts().plot(kind='box')\n",
    "plt.ylabel('Count')\n",
    "plt.title('Boxplot of Denver neighbourhood crime occurrences')\n",
    "plt.show()"
   ]
  },
  {
   "cell_type": "code",
   "execution_count": 139,
   "metadata": {},
   "outputs": [],
   "source": [
    "#Five points is the neighbourhood with the highest crime frequency, and Wellshire is the neighbourhood with the lowest"
   ]
  },
  {
   "cell_type": "code",
   "execution_count": 140,
   "metadata": {},
   "outputs": [
    {
     "name": "stdout",
     "output_type": "stream",
     "text": [
      "theft-from-motor-vehicle        64567\n",
      "public-disorder                 56792\n",
      "larceny                         56147\n",
      "auto-theft                      55879\n",
      "all-other-crimes                46580\n",
      "burglary                        27637\n",
      "drug-alcohol                    21757\n",
      "other-crimes-against-persons    20416\n",
      "aggravated-assault              17181\n",
      "robbery                          6959\n",
      "white-collar-crime               6700\n",
      "sexual-assault                   4281\n",
      "arson                             825\n",
      "murder                            410\n",
      "Name: offense_category_id, dtype: int64\n"
     ]
    }
   ],
   "source": [
    "print(df['offense_category_id'].value_counts())"
   ]
  },
  {
   "cell_type": "code",
   "execution_count": 141,
   "metadata": {},
   "outputs": [
    {
     "data": {
      "text/plain": [
       "Text(0.5, 1.0, 'Offense frequencies in Denver')"
      ]
     },
     "execution_count": 141,
     "metadata": {},
     "output_type": "execute_result"
    },
    {
     "data": {
      "image/png": "[encoded data removed]",
      "text/plain": [
       "<Figure size 640x480 with 1 Axes>"
      ]
     },
     "metadata": {},
     "output_type": "display_data"
    }
   ],
   "source": [
    "#Plot a bar chart with the data\n",
    "df['offense_category_id'].value_counts().plot(kind='bar')\n",
    "plt.xlabel('Offense')\n",
    "plt.ylabel('Count')\n",
    "plt.title('Offense frequencies in Denver')"
   ]
  },
  {
   "cell_type": "code",
   "execution_count": 142,
   "metadata": {},
   "outputs": [],
   "source": [
    "#Theft from Motor Vehicles is the most common crime in Denver."
   ]
  },
  {
   "cell_type": "code",
   "execution_count": 199,
   "metadata": {},
   "outputs": [
    {
     "name": "stdout",
     "output_type": "stream",
     "text": [
      "neighborhood_id\n",
      "athmar-park        (athmar-park, theft-from-motor-vehicle)\n",
      "auraria                        (auraria, all-other-crimes)\n",
      "baker                                     (baker, larceny)\n",
      "barnum                          (barnum, all-other-crimes)\n",
      "barnum-west                (barnum-west, all-other-crimes)\n",
      "                                   ...                    \n",
      "west-colfax                 (west-colfax, public-disorder)\n",
      "west-highland    (west-highland, theft-from-motor-vehicle)\n",
      "westwood                      (westwood, all-other-crimes)\n",
      "whittier                       (whittier, public-disorder)\n",
      "windsor                              (windsor, auto-theft)\n",
      "Name: offense_category_id, Length: 78, dtype: object\n"
     ]
    }
   ],
   "source": [
    "#To find the most common crime per neighbourhood\n",
    "most_common_crime=df.groupby('neighborhood_id')['offense_category_id'].value_counts().groupby('neighborhood_id').idxmax()\n",
    "print(most_common_crime)"
   ]
  },
  {
   "cell_type": "code",
   "execution_count": 143,
   "metadata": {},
   "outputs": [
    {
     "name": "stdout",
     "output_type": "stream",
     "text": [
      "17    22428\n",
      "18    21870\n",
      "0     21740\n",
      "16    21662\n",
      "12    21476\n",
      "22    21383\n",
      "20    21107\n",
      "21    19850\n",
      "15    19483\n",
      "19    19472\n",
      "23    17184\n",
      "14    17012\n",
      "8     15915\n",
      "13    15697\n",
      "10    13929\n",
      "11    13748\n",
      "1     13728\n",
      "9     13024\n",
      "2     11627\n",
      "7     10916\n",
      "3      9318\n",
      "6      8692\n",
      "4      7781\n",
      "5      7089\n",
      "Name: first_occ_hour, dtype: int64\n"
     ]
    }
   ],
   "source": [
    "#To create a new column that shows the hour of the first occurrence of the crime\n",
    "df['first_occ_hour']=df['first_occurrence_date'].dt.hour\n",
    "print(df['first_occ_hour'].value_counts())\n"
   ]
  },
  {
   "cell_type": "code",
   "execution_count": 144,
   "metadata": {},
   "outputs": [
    {
     "data": {
      "text/plain": [
       "Text(0.5, 1.0, 'Crime frequencies of Denver neighbourhoods')"
      ]
     },
     "execution_count": 144,
     "metadata": {},
     "output_type": "execute_result"
    },
    {
     "data": {
      "image/png": "[encoded data removed]",
      "text/plain": [
       "<Figure size 640x480 with 1 Axes>"
      ]
     },
     "metadata": {},
     "output_type": "display_data"
    }
   ],
   "source": [
    "#Plot a line chart with the data\n",
    "df['first_occ_hour'].value_counts().sort_index().plot(kind='line')\n",
    "plt.xlabel('Hour')\n",
    "plt.ylabel('Count')\n",
    "plt.title('Crime frequencies of Denver neighbourhoods')"
   ]
  },
  {
   "cell_type": "code",
   "execution_count": 194,
   "metadata": {},
   "outputs": [
    {
     "name": "stdout",
     "output_type": "stream",
     "text": [
      "auto-theft                      1374\n",
      "theft-from-motor-vehicle        1293\n",
      "public-disorder                  987\n",
      "burglary                         936\n",
      "larceny                          826\n",
      "all-other-crimes                 694\n",
      "aggravated-assault               331\n",
      "other-crimes-against-persons     258\n",
      "robbery                          140\n",
      "drug-alcohol                     126\n",
      "sexual-assault                    62\n",
      "white-collar-crime                29\n",
      "arson                             28\n",
      "murder                             5\n",
      "Name: offense_category_id, dtype: int64\n"
     ]
    }
   ],
   "source": [
    "#To find the crime frequencies in 5pm\n",
    "fivepm=df[df['first_occ_hour']==5]\n",
    "print(fivepm['offense_category_id'].value_counts())"
   ]
  },
  {
   "cell_type": "code",
   "execution_count": 145,
   "metadata": {},
   "outputs": [
    {
     "name": "stdout",
     "output_type": "stream",
     "text": [
      "neighborhood_id\n",
      "athmar-park        (athmar-park, 20)\n",
      "auraria                (auraria, 12)\n",
      "baker                    (baker, 17)\n",
      "barnum                  (barnum, 22)\n",
      "barnum-west        (barnum-west, 22)\n",
      "                        ...         \n",
      "west-colfax        (west-colfax, 12)\n",
      "west-highland    (west-highland, 20)\n",
      "westwood              (westwood, 22)\n",
      "whittier              (whittier, 17)\n",
      "windsor                (windsor, 12)\n",
      "Name: first_occ_hour, Length: 78, dtype: object\n"
     ]
    }
   ],
   "source": [
    "#One can choose to be more specific and check the most common crime hour per neighbourhoood\n",
    "most_time=df.groupby('neighborhood_id')['first_occ_hour'].value_counts().groupby('neighborhood_id').idxmax()\n",
    "print(most_time)"
   ]
  },
  {
   "cell_type": "code",
   "execution_count": 198,
   "metadata": {},
   "outputs": [
    {
     "name": "stdout",
     "output_type": "stream",
     "text": [
      "neighborhood_id\n",
      "athmar-park        (athmar-park, theft-from-motor-vehicle)\n",
      "auraria                        (auraria, all-other-crimes)\n",
      "baker                                     (baker, larceny)\n",
      "barnum                          (barnum, all-other-crimes)\n",
      "barnum-west                (barnum-west, all-other-crimes)\n",
      "                                   ...                    \n",
      "west-colfax                 (west-colfax, public-disorder)\n",
      "west-highland    (west-highland, theft-from-motor-vehicle)\n",
      "westwood                      (westwood, all-other-crimes)\n",
      "whittier                       (whittier, public-disorder)\n",
      "windsor                              (windsor, auto-theft)\n",
      "Name: offense_category_id, Length: 78, dtype: object\n"
     ]
    }
   ],
   "source": [
    "most_common_crime=df.groupby('neighborhood_id')['offense_category_id'].value_counts().groupby('neighborhood_id').idxmax()\n",
    "print(most_common_crime)"
   ]
  },
  {
   "cell_type": "code",
   "execution_count": 146,
   "metadata": {},
   "outputs": [
    {
     "name": "stdout",
     "output_type": "stream",
     "text": [
      "offense_category_id\n",
      "sexual-assault                  47.961713\n",
      "white-collar-crime              26.077710\n",
      "larceny                          6.775805\n",
      "theft-from-motor-vehicle         6.032673\n",
      "burglary                         5.847324\n",
      "auto-theft                       3.814023\n",
      "public-disorder                  3.480932\n",
      "all-other-crimes                 2.835307\n",
      "other-crimes-against-persons     2.349495\n",
      "aggravated-assault               1.919446\n",
      "arson                            1.450855\n",
      "robbery                          1.074017\n",
      "drug-alcohol                     0.510000\n",
      "murder                           0.321936\n",
      "Name: report_time_difference, dtype: float64\n"
     ]
    }
   ],
   "source": [
    "#To find the crime with the highest average difference between reported time and first occurrence time\n",
    "print(df.groupby('offense_category_id')['report_time_difference'].mean().sort_values(ascending=False))"
   ]
  },
  {
   "cell_type": "code",
   "execution_count": 148,
   "metadata": {},
   "outputs": [],
   "source": [
    "#Sexual assault is the crime with the most delayed reporting time with an average of 48 days.The 2nd highest is white collar crime with an average of 26 days"
   ]
  },
  {
   "cell_type": "code",
   "execution_count": 147,
   "metadata": {},
   "outputs": [
    {
     "name": "stdout",
     "output_type": "stream",
     "text": [
      "7     37049\n",
      "8     36713\n",
      "5     35449\n",
      "6     34953\n",
      "9     34922\n",
      "1     32814\n",
      "4     32142\n",
      "3     31555\n",
      "2     28803\n",
      "10    28660\n",
      "12    26894\n",
      "11    26177\n",
      "Name: crime_month, dtype: int64\n"
     ]
    }
   ],
   "source": [
    "#To check most common month, extract the months from the datetime, and compare their frequencies \n",
    "df['crime_month']=df['first_occurrence_date'].dt.month\n",
    "print(df['crime_month'].value_counts())"
   ]
  },
  {
   "cell_type": "code",
   "execution_count": 149,
   "metadata": {},
   "outputs": [
    {
     "name": "stdout",
     "output_type": "stream",
     "text": [
      "(array(['07-01', '07-02', '07-03', '07-04', '07-05', '07-06', '07-07',\n",
      "       '07-08', '07-09', '07-10', '07-11', '07-12', '07-13', '07-14',\n",
      "       '07-15', '07-16', '07-17', '07-18', '07-19', '07-20', '07-21',\n",
      "       '07-22', '07-23', '07-24', '07-25', '07-26', '07-27', '07-28',\n",
      "       '07-29', '07-30', '07-31'], dtype='<U5'), array([1413, 1161, 1189, 1236, 1197, 1142, 1162, 1251, 1159, 1219, 1176,\n",
      "       1221, 1146, 1189, 1175, 1182, 1120, 1166, 1220, 1214, 1196, 1242,\n",
      "       1213, 1214, 1201, 1201, 1185, 1158, 1178, 1159, 1164], dtype=int64))\n"
     ]
    }
   ],
   "source": [
    "#July has the highest crime occurrences of all the months. I had a suspicion that the 4th of July was a major cause of this, because the celebrations might lead into an increase in disorder\n",
    "# The days were extracted from all July crime occurrences and counted to check if the times around the 4th of July had a crime increase\n",
    "df['month_day']=df['first_occurrence_date'].dt.strftime('%m-%d')\n",
    "month_day=list(df['month_day'])\n",
    "july=[date for date in month_day if date.startswith('07')]\n",
    "print(np.unique(july,return_counts=True))"
   ]
  },
  {
   "cell_type": "code",
   "execution_count": 150,
   "metadata": {},
   "outputs": [],
   "source": [
    "#There was a slight increase on July 4th\n",
    "#The 1st of July had the most crime occurrencies. Two other months were checked for their most frequent day"
   ]
  },
  {
   "cell_type": "code",
   "execution_count": 151,
   "metadata": {},
   "outputs": [
    {
     "name": "stdout",
     "output_type": "stream",
     "text": [
      "(array(['08-01', '08-02', '08-03', '08-04', '08-05', '08-06', '08-07',\n",
      "       '08-08', '08-09', '08-10', '08-11', '08-12', '08-13', '08-14',\n",
      "       '08-15', '08-16', '08-17', '08-18', '08-19', '08-20', '08-21',\n",
      "       '08-22', '08-23', '08-24', '08-25', '08-26', '08-27', '08-28',\n",
      "       '08-29', '08-30', '08-31'], dtype='<U5'), array([1332, 1133, 1054, 1210, 1170, 1159, 1147, 1234, 1187, 1217, 1163,\n",
      "       1136, 1128, 1217, 1218, 1254, 1207, 1194, 1213, 1250, 1161, 1165,\n",
      "       1096, 1222, 1129, 1191, 1199, 1187, 1147, 1189, 1204], dtype=int64))\n"
     ]
    }
   ],
   "source": [
    "aug=[date for date in month_day if date.startswith('08')]\n",
    "print(np.unique(aug,return_counts=True))"
   ]
  },
  {
   "cell_type": "code",
   "execution_count": 152,
   "metadata": {},
   "outputs": [
    {
     "name": "stdout",
     "output_type": "stream",
     "text": [
      "(array(['03-01', '03-02', '03-03', '03-04', '03-05', '03-06', '03-07',\n",
      "       '03-08', '03-09', '03-10', '03-11', '03-12', '03-13', '03-14',\n",
      "       '03-15', '03-16', '03-17', '03-18', '03-19', '03-20', '03-21',\n",
      "       '03-22', '03-23', '03-24', '03-25', '03-26', '03-27', '03-28',\n",
      "       '03-29', '03-30', '03-31'], dtype='<U5'), array([1239, 1094, 1030,  989, 1004, 1028, 1021,  966, 1025, 1078, 1122,\n",
      "       1004,  936,  831,  956, 1042,  998, 1006,  976, 1000, 1034, 1030,\n",
      "       1053,  984, 1038, 1090,  992, 1004,  961, 1029,  995], dtype=int64))\n"
     ]
    }
   ],
   "source": [
    "#August 1st was also the day with the highest crime occurrences.\n",
    "march=[date for date in month_day if date.startswith('03')]\n",
    "print(np.unique(march,return_counts=True))"
   ]
  },
  {
   "cell_type": "code",
   "execution_count": 153,
   "metadata": {},
   "outputs": [
    {
     "name": "stdout",
     "output_type": "stream",
     "text": [
      "1     15275\n",
      "15    12945\n",
      "20    12903\n",
      "5     12841\n",
      "16    12833\n",
      "10    12825\n",
      "2     12809\n",
      "23    12753\n",
      "3     12714\n",
      "6     12694\n",
      "8     12666\n",
      "4     12643\n",
      "17    12637\n",
      "11    12588\n",
      "21    12577\n",
      "7     12554\n",
      "26    12535\n",
      "18    12531\n",
      "14    12526\n",
      "28    12518\n",
      "12    12515\n",
      "9     12495\n",
      "24    12456\n",
      "19    12455\n",
      "22    12450\n",
      "27    12421\n",
      "13    12316\n",
      "25    12211\n",
      "30    11504\n",
      "29    11461\n",
      "31     7480\n",
      "Name: day, dtype: int64\n"
     ]
    }
   ],
   "source": [
    "#So was march.\n",
    "#The frequency of each day was checked\n",
    "df['day']=df['first_occurrence_date'].dt.day\n",
    "print(df['day'].value_counts())\n"
   ]
  },
  {
   "cell_type": "code",
   "execution_count": null,
   "metadata": {},
   "outputs": [],
   "source": [
    "#The 1st of the month has the highest crime occurrences. Interestingly, the 3 lowest days of occurrences are the 29th, 30th, and 31st"
   ]
  },
  {
   "cell_type": "code",
   "execution_count": 166,
   "metadata": {},
   "outputs": [
    {
     "name": "stdout",
     "output_type": "stream",
     "text": [
      "theft-from-motor-vehicle        2775\n",
      "public-disorder                 2359\n",
      "larceny                         2183\n",
      "auto-theft                      1907\n",
      "all-other-crimes                1701\n",
      "burglary                        1145\n",
      "other-crimes-against-persons     763\n",
      "drug-alcohol                     687\n",
      "aggravated-assault               632\n",
      "sexual-assault                   418\n",
      "white-collar-crime               410\n",
      "robbery                          244\n",
      "arson                             35\n",
      "murder                            16\n",
      "Name: offense_category_id, dtype: int64\n"
     ]
    }
   ],
   "source": [
    "subset=df[df['day']==1]\n",
    "print(subset['offense_category_id'].value_counts())"
   ]
  },
  {
   "cell_type": "code",
   "execution_count": 167,
   "metadata": {},
   "outputs": [
    {
     "name": "stdout",
     "output_type": "stream",
     "text": [
      "theft-from-motor-vehicle         18.166939\n",
      "public-disorder                  33.610475\n",
      "larceny                          47.901800\n",
      "auto-theft                       60.386252\n",
      "all-other-crimes                 71.522095\n",
      "burglary                         79.018003\n",
      "other-crimes-against-persons     84.013093\n",
      "drug-alcohol                     88.510638\n",
      "aggravated-assault               92.648118\n",
      "sexual-assault                   95.384615\n",
      "white-collar-crime               98.068740\n",
      "robbery                          99.666121\n",
      "arson                            99.895254\n",
      "murder                          100.000000\n",
      "Name: offense_category_id, dtype: float64\n"
     ]
    }
   ],
   "source": [
    "#Using Pareto analysis to extract the 'vital few'\n",
    "column= subset['offense_category_id']\n",
    "total_count = len(subset)\n",
    "subset_sorted = column.value_counts().sort_values(ascending=False)\n",
    "subset_sorted_cumsum = subset_sorted.cumsum() / total_count * 100\n",
    "print(subset_sorted_cumsum)"
   ]
  },
  {
   "cell_type": "code",
   "execution_count": 204,
   "metadata": {},
   "outputs": [
    {
     "data": {
      "image/png": "[encoded data removed]",
      "text/plain": [
       "<Figure size 640x480 with 2 Axes>"
      ]
     },
     "metadata": {},
     "output_type": "display_data"
    }
   ],
   "source": [
    "#Create a pareto chart\n",
    "fig, ax1 = plt.subplots()\n",
    "\n",
    "# Plot the bars\n",
    "ax1.bar(subset_sorted.index, subset_sorted, color='b', alpha=0.7,align='center')\n",
    "plt.xticks(rotation=90)\n",
    "\n",
    "# Create a secondary y-axis for cumulative percentage\n",
    "ax2 = ax1.twinx()\n",
    "ax2.plot(subset_sorted.index, subset_sorted_cumsum, color='r', marker='o',linestyle='-', linewidth=2)\n",
    "\n",
    "ax1.set_xlabel('Offense')\n",
    "ax1.set_ylabel('Frequency', color='b')\n",
    "ax2.set_ylabel('Cumulative Percentage', color='r')\n",
    "\n",
    "plt.title('Pareto chart for crimes on the 1st')\n",
    "\n",
    "# Display the plot\n",
    "plt.show()\n"
   ]
  },
  {
   "cell_type": "code",
   "execution_count": 71,
   "metadata": {},
   "outputs": [
    {
     "name": "stdout",
     "output_type": "stream",
     "text": [
      "neighborhood_id\n",
      "wellshire         383\n",
      "indian-creek      723\n",
      "country-club      891\n",
      "rosedale         1116\n",
      "skyland          1181\n",
      "                ...  \n",
      "dia             14743\n",
      "capitol-hill    14862\n",
      "cbd             14882\n",
      "central-park    18068\n",
      "five-points     23519\n",
      "Name: victim_count, Length: 78, dtype: int64\n"
     ]
    }
   ],
   "source": [
    "victim_count=df.groupby('neighborhood_id')['victim_count'].sum().sort_values()\n",
    "print(victim_count)"
   ]
  },
  {
   "cell_type": "code",
   "execution_count": 74,
   "metadata": {},
   "outputs": [
    {
     "name": "stdout",
     "output_type": "stream",
     "text": [
      "offense_category_id\n",
      "arson                           1.000000\n",
      "auto-theft                      1.000000\n",
      "burglary                        1.000000\n",
      "drug-alcohol                    1.000000\n",
      "larceny                         1.000000\n",
      "robbery                         1.000000\n",
      "theft-from-motor-vehicle        1.000000\n",
      "white-collar-crime              1.000000\n",
      "all-other-crimes                1.004897\n",
      "public-disorder                 1.012834\n",
      "sexual-assault                  1.022341\n",
      "murder                          1.080097\n",
      "other-crimes-against-persons    1.085961\n",
      "aggravated-assault              1.290827\n",
      "Name: victim_count, dtype: float64\n"
     ]
    }
   ],
   "source": [
    "victim_per_crime=df.groupby('offense_category_id')['victim_count'].mean().sort_values()\n",
    "print(victim_per_crime)\n"
   ]
  },
  {
   "cell_type": "code",
   "execution_count": 73,
   "metadata": {},
   "outputs": [
    {
     "name": "stdout",
     "output_type": "stream",
     "text": [
      "theft-from-motor-vehicle        64640\n",
      "public-disorder                 56881\n",
      "larceny                         56243\n",
      "auto-theft                      55953\n",
      "all-other-crimes                46768\n",
      "burglary                        27661\n",
      "drug-alcohol                    21804\n",
      "other-crimes-against-persons    20486\n",
      "aggravated-assault              17213\n",
      "robbery                          6972\n",
      "white-collar-crime               6706\n",
      "sexual-assault                   4297\n",
      "arson                             829\n",
      "murder                            412\n",
      "Name: offense_category_id, dtype: int64\n"
     ]
    }
   ],
   "source": [
    "print(df['offense_category_id'].value_counts())"
   ]
  },
  {
   "cell_type": "code",
   "execution_count": 154,
   "metadata": {},
   "outputs": [
    {
     "name": "stdout",
     "output_type": "stream",
     "text": [
      "offense_category_id\n",
      "aggravated-assault                        (22, aggravated-assault)\n",
      "all-other-crimes                            (16, all-other-crimes)\n",
      "arson                                                   (0, arson)\n",
      "auto-theft                                        (22, auto-theft)\n",
      "burglary                                             (0, burglary)\n",
      "drug-alcohol                                    (16, drug-alcohol)\n",
      "larceny                                              (12, larceny)\n",
      "murder                                                 (0, murder)\n",
      "other-crimes-against-persons    (20, other-crimes-against-persons)\n",
      "public-disorder                               (0, public-disorder)\n",
      "robbery                                              (21, robbery)\n",
      "sexual-assault                                 (0, sexual-assault)\n",
      "theft-from-motor-vehicle             (0, theft-from-motor-vehicle)\n",
      "white-collar-crime                        (12, white-collar-crime)\n",
      "Name: offense_category_id, dtype: object\n"
     ]
    }
   ],
   "source": [
    "#To find the most common time for the crimes in Denver\n",
    "df['dfhr']=df['first_occurrence_date'].dt.hour\n",
    "hrtm=df.groupby('dfhr')['offense_category_id'].value_counts().groupby('offense_category_id').idxmax()\n",
    "print(hrtm)"
   ]
  },
  {
   "cell_type": "code",
   "execution_count": 211,
   "metadata": {},
   "outputs": [
    {
     "name": "stdout",
     "output_type": "stream",
     "text": [
      "public-disorder                 3782\n",
      "theft-from-motor-vehicle        3716\n",
      "larceny                         3289\n",
      "all-other-crimes                3042\n",
      "auto-theft                      2286\n",
      "other-crimes-against-persons    1626\n",
      "drug-alcohol                    1585\n",
      "burglary                        1425\n",
      "aggravated-assault              1376\n",
      "robbery                          406\n",
      "sexual-assault                   272\n",
      "white-collar-crime               188\n",
      "arson                             56\n",
      "murder                            24\n",
      "Name: offense_category_id, dtype: int64\n"
     ]
    }
   ],
   "source": [
    "pri=df[df['neighborhood_id']=='five-points']\n",
    "print(pri['offense_category_id'].value_counts())"
   ]
  }
 ],
 "metadata": {
  "kernelspec": {
   "display_name": "Python 3",
   "language": "python",
   "name": "python3"
  },
  "language_info": {
   "codemirror_mode": {
    "name": "ipython",
    "version": 3
   },
   "file_extension": ".py",
   "mimetype": "text/x-python",
   "name": "python",
   "nbconvert_exporter": "python",
   "pygments_lexer": "ipython3",
   "version": "3.11.7"
  }
 },
 "nbformat": 4,
 "nbformat_minor": 2
}
